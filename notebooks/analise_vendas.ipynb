{
 "cells": [
  {
   "cell_type": "code",
   "execution_count": 77,
   "metadata": {},
   "outputs": [],
   "source": [
    "import pandas as pd\n",
    "import numpy as np\n",
    "import matplotlib as plt"
   ]
  },
  {
   "cell_type": "code",
   "execution_count": 78,
   "metadata": {},
   "outputs": [],
   "source": [
    "def formata_valor(valor):\n",
    "  return f\"{valor:,.0f}\".replace(',', '.')"
   ]
  },
  {
   "cell_type": "code",
   "execution_count": 79,
   "metadata": {},
   "outputs": [],
   "source": [
    "path_vendas = \"../data/Vendas.xlsx\"\n",
    "path_vendas_dez = \"../data/Vendas_Dez.xlsx\"\n",
    "path_gerentes = \"../data/Gerentes.xlsx\"\n",
    "df_vendas = pd.read_excel(path_vendas)\n",
    "df_vendas_dez = pd.read_excel(path_vendas_dez)\n",
    "df_gerentes = pd.read_excel(path_gerentes)"
   ]
  },
  {
   "cell_type": "code",
   "execution_count": 80,
   "metadata": {},
   "outputs": [
    {
     "data": {
      "text/html": [
       "<div>\n",
       "<style scoped>\n",
       "    .dataframe tbody tr th:only-of-type {\n",
       "        vertical-align: middle;\n",
       "    }\n",
       "\n",
       "    .dataframe tbody tr th {\n",
       "        vertical-align: top;\n",
       "    }\n",
       "\n",
       "    .dataframe thead th {\n",
       "        text-align: right;\n",
       "    }\n",
       "</style>\n",
       "<table border=\"1\" class=\"dataframe\">\n",
       "  <thead>\n",
       "    <tr style=\"text-align: right;\">\n",
       "      <th></th>\n",
       "      <th>Código Venda</th>\n",
       "      <th>Data</th>\n",
       "      <th>ID Loja</th>\n",
       "      <th>Produto</th>\n",
       "      <th>Quantidade</th>\n",
       "      <th>Valor Unitário</th>\n",
       "      <th>Valor Final</th>\n",
       "    </tr>\n",
       "  </thead>\n",
       "  <tbody>\n",
       "    <tr>\n",
       "      <th>0</th>\n",
       "      <td>1</td>\n",
       "      <td>2019-01-01</td>\n",
       "      <td>Iguatemi Esplanada</td>\n",
       "      <td>Sapato Estampa</td>\n",
       "      <td>1</td>\n",
       "      <td>358</td>\n",
       "      <td>358</td>\n",
       "    </tr>\n",
       "    <tr>\n",
       "      <th>1</th>\n",
       "      <td>1</td>\n",
       "      <td>2019-01-01</td>\n",
       "      <td>Iguatemi Esplanada</td>\n",
       "      <td>Camiseta</td>\n",
       "      <td>2</td>\n",
       "      <td>180</td>\n",
       "      <td>360</td>\n",
       "    </tr>\n",
       "    <tr>\n",
       "      <th>2</th>\n",
       "      <td>1</td>\n",
       "      <td>2019-01-01</td>\n",
       "      <td>Iguatemi Esplanada</td>\n",
       "      <td>Sapato Xadrez</td>\n",
       "      <td>1</td>\n",
       "      <td>368</td>\n",
       "      <td>368</td>\n",
       "    </tr>\n",
       "  </tbody>\n",
       "</table>\n",
       "</div>"
      ],
      "text/plain": [
       "   Código Venda       Data             ID Loja         Produto  Quantidade  \\\n",
       "0             1 2019-01-01  Iguatemi Esplanada  Sapato Estampa           1   \n",
       "1             1 2019-01-01  Iguatemi Esplanada        Camiseta           2   \n",
       "2             1 2019-01-01  Iguatemi Esplanada   Sapato Xadrez           1   \n",
       "\n",
       "   Valor Unitário  Valor Final  \n",
       "0             358          358  \n",
       "1             180          360  \n",
       "2             368          368  "
      ]
     },
     "metadata": {},
     "output_type": "display_data"
    },
    {
     "data": {
      "text/plain": [
       "'Linhas / colunas'"
      ]
     },
     "metadata": {},
     "output_type": "display_data"
    },
    {
     "data": {
      "text/plain": [
       "(93910, 7)"
      ]
     },
     "metadata": {},
     "output_type": "display_data"
    }
   ],
   "source": [
    "display(df_vendas.head(3))\n",
    "display(\"Linhas / colunas\", df_vendas.shape)"
   ]
  },
  {
   "cell_type": "code",
   "execution_count": 81,
   "metadata": {},
   "outputs": [
    {
     "name": "stdout",
     "output_type": "stream",
     "text": [
      "Dados Estatísticos sobre valores\n"
     ]
    },
    {
     "data": {
      "text/html": [
       "<div>\n",
       "<style scoped>\n",
       "    .dataframe tbody tr th:only-of-type {\n",
       "        vertical-align: middle;\n",
       "    }\n",
       "\n",
       "    .dataframe tbody tr th {\n",
       "        vertical-align: top;\n",
       "    }\n",
       "\n",
       "    .dataframe thead th {\n",
       "        text-align: right;\n",
       "    }\n",
       "</style>\n",
       "<table border=\"1\" class=\"dataframe\">\n",
       "  <thead>\n",
       "    <tr style=\"text-align: right;\">\n",
       "      <th></th>\n",
       "      <th>Valor Unitário</th>\n",
       "      <th>Valor Final</th>\n",
       "    </tr>\n",
       "  </thead>\n",
       "  <tbody>\n",
       "    <tr>\n",
       "      <th>count</th>\n",
       "      <td>93910.00</td>\n",
       "      <td>93910.00</td>\n",
       "    </tr>\n",
       "    <tr>\n",
       "      <th>mean</th>\n",
       "      <td>191.73</td>\n",
       "      <td>414.86</td>\n",
       "    </tr>\n",
       "    <tr>\n",
       "      <th>std</th>\n",
       "      <td>145.22</td>\n",
       "      <td>434.85</td>\n",
       "    </tr>\n",
       "    <tr>\n",
       "      <th>min</th>\n",
       "      <td>30.00</td>\n",
       "      <td>30.00</td>\n",
       "    </tr>\n",
       "    <tr>\n",
       "      <th>25%</th>\n",
       "      <td>100.00</td>\n",
       "      <td>156.00</td>\n",
       "    </tr>\n",
       "    <tr>\n",
       "      <th>50%</th>\n",
       "      <td>155.00</td>\n",
       "      <td>274.00</td>\n",
       "    </tr>\n",
       "    <tr>\n",
       "      <th>75%</th>\n",
       "      <td>248.00</td>\n",
       "      <td>524.00</td>\n",
       "    </tr>\n",
       "    <tr>\n",
       "      <th>max</th>\n",
       "      <td>750.00</td>\n",
       "      <td>3750.00</td>\n",
       "    </tr>\n",
       "  </tbody>\n",
       "</table>\n",
       "</div>"
      ],
      "text/plain": [
       "       Valor Unitário  Valor Final\n",
       "count        93910.00     93910.00\n",
       "mean           191.73       414.86\n",
       "std            145.22       434.85\n",
       "min             30.00        30.00\n",
       "25%            100.00       156.00\n",
       "50%            155.00       274.00\n",
       "75%            248.00       524.00\n",
       "max            750.00      3750.00"
      ]
     },
     "metadata": {},
     "output_type": "display_data"
    }
   ],
   "source": [
    "print('Dados Estatísticos sobre valores')\n",
    "display(df_vendas[['Valor Unitário', 'Valor Final']].describe().round(2))"
   ]
  },
  {
   "cell_type": "code",
   "execution_count": 82,
   "metadata": {},
   "outputs": [
    {
     "data": {
      "text/plain": [
       "25"
      ]
     },
     "metadata": {},
     "output_type": "display_data"
    },
    {
     "data": {
      "text/plain": [
       "120"
      ]
     },
     "metadata": {},
     "output_type": "display_data"
    }
   ],
   "source": [
    "display(df_vendas['ID Loja'].nunique())\n",
    "display(df_vendas['Produto'].nunique())"
   ]
  },
  {
   "cell_type": "markdown",
   "metadata": {},
   "source": [
    "As vendas contam com 25 lojas e 120 produtos diferentes em venda"
   ]
  },
  {
   "cell_type": "code",
   "execution_count": 83,
   "metadata": {},
   "outputs": [
    {
     "name": "stdout",
     "output_type": "stream",
     "text": [
      "TOTAL VENDIDO POR UNIDADE\n"
     ]
    },
    {
     "data": {
      "text/plain": [
       "ID Loja\n",
       "Bourbon Shopping SP                 1.600.260\n",
       "Center Shopping Uberlândia          1.543.961\n",
       "Iguatemi Campinas                   1.612.460\n",
       "Iguatemi Esplanada                  1.596.339\n",
       "Norte Shopping                      1.610.477\n",
       "Novo Shopping Ribeirão Preto        1.578.522\n",
       "Palladium Shopping Curitiba         1.600.499\n",
       "Parque Dom Pedro Shopping           1.509.575\n",
       "Passei das Águas Shopping           1.536.925\n",
       "Ribeirão Shopping                   1.594.186\n",
       "Rio Mar Recife                      1.582.897\n",
       "Rio Mar Shopping Fortaleza          1.570.540\n",
       "Salvador Shopping                   1.517.583\n",
       "Shopping Barra                      1.549.955\n",
       "Shopping Center Interlagos          1.536.665\n",
       "Shopping Center Leste Aricanduva    1.596.714\n",
       "Shopping Eldorado                   1.523.772\n",
       "Shopping Ibirapuera                 1.527.153\n",
       "Shopping Iguatemi Fortaleza         1.550.642\n",
       "Shopping Midway Mall                1.485.172\n",
       "Shopping Morumbi                    1.468.508\n",
       "Shopping Recife                     1.493.008\n",
       "Shopping SP Market                  1.610.930\n",
       "Shopping União de Osasco            1.547.738\n",
       "Shopping Vila Velha                 1.615.271\n",
       "Name: Valor Final, dtype: object"
      ]
     },
     "metadata": {},
     "output_type": "display_data"
    }
   ],
   "source": [
    "total_vendas_por_lojas = df_vendas.groupby('ID Loja')['Valor Final'].sum().apply(formata_valor)\n",
    "print('TOTAL VENDIDO POR UNIDADE')\n",
    "display(total_vendas_por_lojas)"
   ]
  },
  {
   "cell_type": "code",
   "execution_count": 84,
   "metadata": {},
   "outputs": [
    {
     "name": "stdout",
     "output_type": "stream",
     "text": [
      "TOTAL DE PRODUTOS VENDIDOS\n"
     ]
    },
    {
     "data": {
      "text/plain": [
       "Produto\n",
       "Bermuda             1.692\n",
       "Bermuda Estampa     1.616\n",
       "Bermuda Linho       1.893\n",
       "Bermuda Liso        1.637\n",
       "Bermuda Listrado    1.675\n",
       "                    ...  \n",
       "Tênis Estampa       1.663\n",
       "Tênis Linho         1.713\n",
       "Tênis Liso          1.656\n",
       "Tênis Listrado      1.737\n",
       "Tênis Xadrez        1.661\n",
       "Name: Quantidade, Length: 120, dtype: object"
      ]
     },
     "metadata": {},
     "output_type": "display_data"
    },
    {
     "name": "stdout",
     "output_type": "stream",
     "text": [
      "VALOR POR PRODUTO\n"
     ]
    },
    {
     "data": {
      "text/plain": [
       "Produto\n",
       "Bermuda             253.800\n",
       "Bermuda Estampa     273.104\n",
       "Bermuda Linho       369.135\n",
       "Bermuda Liso        257.009\n",
       "Bermuda Listrado    273.025\n",
       "                     ...   \n",
       "Tênis Estampa       425.728\n",
       "Tênis Linho         503.622\n",
       "Tênis Liso          440.496\n",
       "Tênis Listrado      455.094\n",
       "Tênis Xadrez        430.199\n",
       "Name: Valor Final, Length: 120, dtype: object"
      ]
     },
     "metadata": {},
     "output_type": "display_data"
    }
   ],
   "source": [
    "total_produtos_vendidos = df_vendas.groupby('Produto')['Quantidade'].sum().apply(formata_valor)\n",
    "print(\"TOTAL DE PRODUTOS VENDIDOS\")\n",
    "display(total_produtos_vendidos)\n",
    "\n",
    "print(\"VALOR POR PRODUTO\")\n",
    "total_vendas_por_produto = df_vendas.groupby('Produto')['Valor Final'].sum().apply(formata_valor)\n",
    "display(total_vendas_por_produto)"
   ]
  }
 ],
 "metadata": {
  "kernelspec": {
   "display_name": "Python 3",
   "language": "python",
   "name": "python3"
  },
  "language_info": {
   "codemirror_mode": {
    "name": "ipython",
    "version": 3
   },
   "file_extension": ".py",
   "mimetype": "text/x-python",
   "name": "python",
   "nbconvert_exporter": "python",
   "pygments_lexer": "ipython3",
   "version": "3.12.4"
  }
 },
 "nbformat": 4,
 "nbformat_minor": 2
}
